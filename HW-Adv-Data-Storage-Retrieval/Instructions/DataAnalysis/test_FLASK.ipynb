{
 "cells": [
  {
   "cell_type": "code",
   "execution_count": 1,
   "metadata": {},
   "outputs": [],
   "source": [
    "from flask import Flask, jsonify\n",
    "\n",
    "# 2. Create an app, being sure to pass __name__\n",
    "app = Flask(__name__)\n",
    "\n",
    "\n",
    "\n",
    "\n",
    "\n",
    "# 1. import Flask and jsonify\n",
    "import datetime as dt\n",
    "import numpy as np\n",
    "import pandas as pd\n",
    "\n",
    "import sqlalchemy\n",
    "from sqlalchemy.ext.automap import automap_base\n",
    "from sqlalchemy.orm import Session\n",
    "from sqlalchemy import create_engine, func"
   ]
  },
  {
   "cell_type": "code",
   "execution_count": 11,
   "metadata": {},
   "outputs": [
    {
     "name": "stdout",
     "output_type": "stream",
     "text": [
      "What startdate would you like anything\n"
     ]
    }
   ],
   "source": [
    "start = input(\"What startdate would you like\")\n"
   ]
  },
  {
   "cell_type": "code",
   "execution_count": 18,
   "metadata": {},
   "outputs": [],
   "source": [
    "\n",
    "def calc_temps_diff():   \n",
    "    results=session.query(Measurement_Station_Join.date,Measurement_Station_Join.tobs).\\\n",
    "               filter(Measurement_Station_Join.date>= \"2016/5/6\").\\\n",
    "               filter(Measurement_Station_Join.date <= \"2017/5/6\").\\\n",
    "               order_by(Measurement_Station_Join.date).all()\n",
    "\n",
    "#get averages for all the data\n",
    "    dates=[]\n",
    "    temp=[]\n",
    "    max_temp=0\n",
    "    min_temp=0\n",
    "    average_temp=0\n",
    "\n",
    "    for i in results:\n",
    "        a,b=i\n",
    "        dates.append(a)\n",
    "        temp.append(b)\n",
    "\n",
    "    max_temp=max(temp)\n",
    "    min_temp=min(temp)\n",
    "    average_temp=(sum(temp)/len(temp))\n",
    "    \n",
    "    return (f'|||| Max temp:{max_temp}F  ||||   Min temp:{min_temp}F   |||| Average temp:{average_temp}F ||||')"
   ]
  },
  {
   "cell_type": "code",
   "execution_count": 19,
   "metadata": {},
   "outputs": [
    {
     "data": {
      "text/plain": [
       "'|||| Max temp:87F  ||||   Min temp:58F   |||| Average temp:74.25490196078431F ||||'"
      ]
     },
     "execution_count": 19,
     "metadata": {},
     "output_type": "execute_result"
    }
   ],
   "source": [
    "calc_temps_diff()\n",
    "\n"
   ]
  },
  {
   "cell_type": "code",
   "execution_count": null,
   "metadata": {},
   "outputs": [],
   "source": []
  }
 ],
 "metadata": {
  "kernelspec": {
   "display_name": "Python 3",
   "language": "python",
   "name": "python3"
  },
  "language_info": {
   "codemirror_mode": {
    "name": "ipython",
    "version": 3
   },
   "file_extension": ".py",
   "mimetype": "text/x-python",
   "name": "python",
   "nbconvert_exporter": "python",
   "pygments_lexer": "ipython3",
   "version": "3.6.4"
  }
 },
 "nbformat": 4,
 "nbformat_minor": 2
}
